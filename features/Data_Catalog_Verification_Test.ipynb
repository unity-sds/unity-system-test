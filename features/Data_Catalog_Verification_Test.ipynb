{
 "cells": [
  {
   "cell_type": "code",
   "execution_count": 1,
   "id": "a17069c9-f792-4d04-af07-96d9dea94847",
   "metadata": {},
   "outputs": [
    {
     "name": "stdout",
     "output_type": "stream",
     "text": [
      "collection id: urn:nasa:unity:unity:dev:SBG-L2A_CORFL___1\n",
      "data files: [unity_sds_client.resources.DataFile(location=/unity/ads/input_collections/SBG-L2A_CORFL/SISTER_EMIT_L2A_CORFL_20240103T131936_000.log), unity_sds_client.resources.DataFile(location=/unity/ads/input_collections/SBG-L2A_CORFL/SISTER_EMIT_L2A_CORFL_20240103T131936_000.json), unity_sds_client.resources.DataFile(location=/unity/ads/input_collections/SBG-L2A_CORFL/SISTER_EMIT_L2A_CORFL_20240103T131936_000.hdr), unity_sds_client.resources.DataFile(location=/unity/ads/input_collections/SBG-L2A_CORFL/SISTER_EMIT_L2A_CORFL_20240103T131936_000.png), unity_sds_client.resources.DataFile(location=/unity/ads/input_collections/SBG-L2A_CORFL/SISTER_EMIT_L2A_CORFL_20240103T131936_000.bin)]\n"
     ]
    }
   ],
   "source": [
    "# stage_in packages\n",
    "from unity_sds_client.resources.collection import Collection\n",
    "from unity_sds_client.resources.dataset import Dataset\n",
    "from unity_sds_client.resources.data_file import DataFile\n",
    "\n",
    "from unity_sds_client.unity import Unity\n",
    "from unity_sds_client.unity import UnityEnvironments\n",
    "from unity_sds_client.unity_session import UnitySession\n",
    "from unity_sds_client.unity_services import UnityServices as services\n",
    "\n",
    "input_stac_collection_file = '/unity/ads/input_collections/SBG-L2-FRAC_COVER/catalog.json'\n",
    "output_stac_catalog_dir    = '/unity/ads/outputs/SBG-L2-FRAC_COVER/'\n",
    "\n",
    "# From Local directory\n",
    "inp_collection = Collection.from_stac(input_stac_collection_file)\n",
    "data_filenames = inp_collection.data_locations()\n",
    "print(f'collection id: {inp_collection.collection_id}')\n",
    "print(f'data files: {inp_collection.data_files()}')\n",
    "for dataset in inp_collection._datasets:\n",
    "    print(f'dataset start time: {dataset.data_begin_time}')\n",
    "    print(f'dataset name: {dataset.id}' )\n",
    "    print(f'dataset end time: {dataset.data_end_time}')"
   ]
  },
  {
   "cell_type": "code",
   "execution_count": 20,
   "id": "3826b534-dd8d-40d8-a2fb-023cac42303c",
   "metadata": {
    "scrolled": true
   },
   "outputs": [
    {
     "name": "stdin",
     "output_type": "stream",
     "text": [
      "Please enter your Unity username:  leebrian\n",
      "Please enter your Unity password:  ········\n"
     ]
    },
    {
     "name": "stdout",
     "output_type": "stream",
     "text": [
      "dataset begin time: 2023-08-07T18:27:55Z\n",
      "dataset end time: 2023-08-07T18:28:07Z\n",
      "dataset id: urn:nasa:unity:unity:test:SBG-L2A_CORFL___1:SISTER_EMIT_L2A_CORFL_20230807T182755_001\n",
      "dataset begin time: 2024-01-03T13:19:36Z\n",
      "dataset end time: 2024-01-03T13:19:48Z\n",
      "dataset id: urn:nasa:unity:unity:test:SBG-L2A_CORFL___1:SISTER_EMIT_L2A_CORFL_20240103T131936_001\n",
      "\n",
      "\n",
      "dataset begin time: 2023-08-07T18:27:55Z\n",
      "dataset end time: 2023-08-07T18:28:07Z\n",
      "dataset id: urn:nasa:unity:unity:test:SBG-L2A_CORFL___1:SISTER_EMIT_L2A_CORFL_20230807T182755_001\n",
      "unity_sds_client.resources.DataFile(location=s3://sps-test-ds-storage/urn:nasa:unity:unity:test:SBG-L2A_CORFL___1/urn:nasa:unity:unity:test:SBG-L2A_CORFL___1:SISTER_EMIT_L2A_CORFL_20230807T182755_001/SISTER_EMIT_L2A_CORFL_20230807T182755_001.cmr.xml)\n",
      "unity_sds_client.resources.DataFile(location=s3://sps-test-ds-storage/urn:nasa:unity:unity:test:SBG-L2A_CORFL___1/urn:nasa:unity:unity:test:SBG-L2A_CORFL___1:SISTER_EMIT_L2A_CORFL_20230807T182755_001/SISTER_EMIT_L2A_CORFL_20230807T182755_001.json)\n",
      "unity_sds_client.resources.DataFile(location=s3://sps-test-ds-storage/urn:nasa:unity:unity:test:SBG-L2A_CORFL___1/urn:nasa:unity:unity:test:SBG-L2A_CORFL___1:SISTER_EMIT_L2A_CORFL_20230807T182755_001/SISTER_EMIT_L2A_CORFL_20230807T182755_001.png)\n",
      "unity_sds_client.resources.DataFile(location=s3://sps-test-ds-storage/urn:nasa:unity:unity:test:SBG-L2A_CORFL___1/urn:nasa:unity:unity:test:SBG-L2A_CORFL___1:SISTER_EMIT_L2A_CORFL_20230807T182755_001/SISTER_EMIT_L2A_CORFL_20230807T182755_001.hdr)\n",
      "unity_sds_client.resources.DataFile(location=s3://sps-test-ds-storage/urn:nasa:unity:unity:test:SBG-L2A_CORFL___1/urn:nasa:unity:unity:test:SBG-L2A_CORFL___1:SISTER_EMIT_L2A_CORFL_20230807T182755_001/SISTER_EMIT_L2A_CORFL_20230807T182755_001.bin)\n"
     ]
    }
   ],
   "source": [
    "## From S3\n",
    "collection_id = \"urn:nasa:unity:unity:test:SBG-L2A_CORFL___1\"\n",
    "s = Unity(UnityEnvironments.TEST)\n",
    "dataManager = s.client(services.DATA_SERVICE)\n",
    "#SHOWS ALL data in S3 for given collection_id\n",
    "cd = dataManager.get_collection_data(Collection(collection_id), limit=100, filter=\"updated >= '2024-03-18T00:00:00Z' and updated <= '2024-03-21T23:59:59Z'\")\n",
    "for dataset in cd:\n",
    "    print(f'dataset begin time: {dataset.data_begin_time}')\n",
    "    print(f'dataset end time: {dataset.data_end_time}')\n",
    "    print(f'dataset id: {dataset.id}' )\n",
    "\n",
    "print('')\n",
    "print('')\n",
    "#Shows the filtered data in S3 for given filter\n",
    "cd = dataManager.get_collection_data(Collection(collection_id), limit=100, filter=\"updated >= '2024-03-20T00:00:00Z' and updated <= '2025-02-26T23:59:59Z'\")\n",
    "for dataset in cd:\n",
    "    print(f'dataset begin time: {dataset.data_begin_time}')\n",
    "    print(f'dataset end time: {dataset.data_end_time}')\n",
    "    print(f'dataset id: {dataset.id}' )\n",
    "    for f in dataset.datafiles:\n",
    "        print(f)"
   ]
  },
  {
   "cell_type": "code",
   "execution_count": null,
   "id": "b066081f-d2ab-4eb4-be5f-148aa0910830",
   "metadata": {},
   "outputs": [],
   "source": []
  }
 ],
 "metadata": {
  "kernelspec": {
   "display_name": "Python [conda env:root] *",
   "language": "python",
   "name": "conda-root-py"
  },
  "language_info": {
   "codemirror_mode": {
    "name": "ipython",
    "version": 3
   },
   "file_extension": ".py",
   "mimetype": "text/x-python",
   "name": "python",
   "nbconvert_exporter": "python",
   "pygments_lexer": "ipython3",
   "version": "3.11.6"
  }
 },
 "nbformat": 4,
 "nbformat_minor": 5
}
